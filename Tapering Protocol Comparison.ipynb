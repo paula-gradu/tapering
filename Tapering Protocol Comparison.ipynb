{
 "cells": [
  {
   "cell_type": "markdown",
   "metadata": {},
   "source": [
    "Step 0. Run the notebook containing all class definitions. It will generate some plots. Wait until it is done and go to Cell->Current Output-> Clear to make things tidy."
   ]
  },
  {
   "cell_type": "code",
   "execution_count": 1,
   "metadata": {},
   "outputs": [],
   "source": [
    "%run \"Tapering Protocol Comparison Utils\".ipynb"
   ]
  },
  {
   "cell_type": "markdown",
   "metadata": {},
   "source": [
    "### 1. Creating different impulse responses "
   ]
  },
  {
   "cell_type": "markdown",
   "metadata": {},
   "source": [
    "First let us look at a very simple linear models that aims to capture the effects of an abstract stimulant over time. The A process would correspond to released (& bonded) dopamine, while the B process would correspond to slow increases in the dopamine receptors (leading to increased reuptake). A timestep is one day. We have two systems below, one for hard drugs, and one for more medication type drugs. For now we will only work with the first system and hence only plot its impulse response. Other systems will be added here."
   ]
  },
  {
   "cell_type": "code",
   "execution_count": 36,
   "metadata": {},
   "outputs": [],
   "source": [
    "med_lin_sys = system(create_linear_impulse(np.array([[0.001, 0], [0, 0.9]], dtype=object),\n",
    "                                    np.array([6, 0.5]), np.array([1, -1]), 180))\n",
    "hrd_lin_sys = system(create_linear_impulse(np.array([[0.001, 0], [0, 0.75]], dtype=object),\n",
    "                                np.array([6, 2]), np.array([1, -1]), 180))"
   ]
  },
  {
   "cell_type": "markdown",
   "metadata": {},
   "source": [
    "In order to study the different protocols, we first need to start off in an 'addicted' state of the system. We vizualize this below, where we assume addiction happened due to taking 1 unit of dose every day for 60 days:"
   ]
  },
  {
   "cell_type": "code",
   "execution_count": 37,
   "metadata": {},
   "outputs": [],
   "source": [
    "addict_T = 60\n",
    "addict_dose = 1\n",
    "addict_dose_history = list(addict_dose * np.ones(addict_T))"
   ]
  },
  {
   "cell_type": "markdown",
   "metadata": {},
   "source": [
    "### 2. Testing out different protocols on a population"
   ]
  },
  {
   "cell_type": "markdown",
   "metadata": {},
   "source": [
    "First let's consider the situation where all units have the same underlying dose response (Drug A), and experience some uniform noise on each measurement and each unit has a desired obs_min drawn uniformly from (-1,1)."
   ]
  },
  {
   "cell_type": "code",
   "execution_count": 38,
   "metadata": {},
   "outputs": [],
   "source": [
    "drug = 'A'"
   ]
  },
  {
   "cell_type": "code",
   "execution_count": 39,
   "metadata": {},
   "outputs": [],
   "source": [
    "trials = 100\n",
    "noise_lb, noise_ub = (-0.25, 0.25)\n",
    "taper_T = 30"
   ]
  },
  {
   "cell_type": "code",
   "execution_count": 40,
   "metadata": {},
   "outputs": [],
   "source": [
    "if drug == 'A':\n",
    "    obs_min_lb, obs_min_ub = -1, 1\n",
    "    test_system = med_lin_sys\n",
    "elif drug == 'B':\n",
    "    obs_min_lb, obs_min_ub = -4.25, -2.25\n",
    "    test_system = hrd_lin_sys"
   ]
  },
  {
   "cell_type": "code",
   "execution_count": 41,
   "metadata": {},
   "outputs": [],
   "source": [
    "viol_mean = {}\n",
    "viol_std = {}\n",
    "subopt_mean = {}\n",
    "subopt_std = {}"
   ]
  },
  {
   "cell_type": "code",
   "execution_count": 42,
   "metadata": {},
   "outputs": [],
   "source": [
    "# 1. Cold Turkey\n",
    "viol_mean['ct'], viol_std['ct'], \\\n",
    "subopt_mean['ct'], subopt_std['ct'] = test_population(trials, system=test_system, \\\n",
    "                                                    noise_generator=uniform(noise_lb, noise_ub), \\\n",
    "                                                    obs_min_generator=uniform(obs_min_lb, obs_min_ub),\n",
    "                                                    protocol=cold_turkey, taper_T=taper_T)"
   ]
  },
  {
   "cell_type": "code",
   "execution_count": 43,
   "metadata": {},
   "outputs": [],
   "source": [
    "# 2. Linear\n",
    "lin_rates = {}\n",
    "\n",
    "lin_rates['A'] = [0.01, 0.02, 0.03, 0.04, 0.06, 0.1]\n",
    "lin_rates['B'] = [0.05, 0.1, 0.15, 0.2, 0.25]\n",
    "\n",
    "for lin_rate in lin_rates[drug]:\n",
    "    viol_mean['lin-'+str(lin_rate)], viol_std['lin-'+str(lin_rate)], \\\n",
    "    subopt_mean['lin-'+str(lin_rate)], subopt_std['lin-'+str(lin_rate)] = test_population(trials, system=test_system, \\\n",
    "                                                    noise_generator=uniform(noise_lb, noise_ub), \\\n",
    "                                                    obs_min_generator=uniform(obs_min_lb, obs_min_ub),\n",
    "                                                    protocol=linear(addict_dose, lin_rate), taper_T=taper_T)"
   ]
  },
  {
   "cell_type": "code",
   "execution_count": 44,
   "metadata": {},
   "outputs": [],
   "source": [
    "# 3. Exponential\n",
    "exp_rates = {}\n",
    "exp_rates['A'] = [0.8, 0.9, 0.95, 0.97, 0.98, 0.99]\n",
    "exp_rates['B'] = [0.5, 0.6, 0.7, 0.9, 0.95]\n",
    "\n",
    "for exp_rate in exp_rates[drug]:\n",
    "    viol_mean['exp-'+str(exp_rate)], viol_std['exp-'+str(exp_rate)], \\\n",
    "    subopt_mean['exp-'+str(exp_rate)], subopt_std['exp-'+str(exp_rate)] = test_population(trials, system=test_system, \\\n",
    "                                                    noise_generator=uniform(noise_lb, noise_ub), \\\n",
    "                                                    obs_min_generator=uniform(obs_min_lb, obs_min_ub),\n",
    "                                                    protocol=exp(addict_dose, exp_rate), taper_T=taper_T)"
   ]
  },
  {
   "cell_type": "code",
   "execution_count": 45,
   "metadata": {},
   "outputs": [],
   "source": [
    "# 4. Monotone Lookahead (default)\n",
    "g0_fracs = {}\n",
    "g0_fracs['A'] = [0, 0.25, 0.5, 1]\n",
    "g0_fracs['B'] = [0, 0.1, 0.2, 0.5]\n",
    "\n",
    "Ls = {}\n",
    "Ls['A'] = [0.0, 0.2, 0.4, 0.6]\n",
    "Ls['B'] = [0.0, 0.1, 0.2, 0.3]\n",
    "\n",
    "for g0_frac in g0_fracs[drug]:\n",
    "    g0_cons = (1+g0_frac)*test_system.g[0]\n",
    "    \n",
    "    for L in Ls[drug]:\n",
    "        \n",
    "        viol_mean['lk-'+str(g0_frac)+'-'+str(L)], viol_std['lk-'+str(g0_frac)+'-'+str(L)], \\\n",
    "        subopt_mean['lk-'+str(g0_frac)+'-'+str(L)], subopt_std['lk-'+str(g0_frac)+'-'+str(L)] = \\\n",
    "        \\\n",
    "                test_population(trials, system=test_system, noise_generator=uniform(noise_lb, noise_ub), \\\n",
    "                                obs_min_generator=uniform(obs_min_lb, obs_min_ub), \\\n",
    "                                protocol=lookahead(addict_dose, 0, g0_cons, L=L), taper_T=taper_T)"
   ]
  },
  {
   "cell_type": "markdown",
   "metadata": {},
   "source": [
    "### 3. Plotting the Results"
   ]
  },
  {
   "cell_type": "code",
   "execution_count": 46,
   "metadata": {},
   "outputs": [
    {
     "data": {
      "image/png": "[encoded data removed]",
      "text/plain": [
       "<Figure size 432x288 with 1 Axes>"
      ]
     },
     "metadata": {
      "needs_background": "light"
     },
     "output_type": "display_data"
    }
   ],
   "source": [
    "# 0. Initialize plot\n",
    "fig, ax = plt.subplots()\n",
    "plt.xlabel(\"avg. cumulative constraint violation\")\n",
    "plt.ylabel(\"avg. total dose suboptimality\")\n",
    "\n",
    "scale = 'linear'\n",
    "plt.xscale(scale)\n",
    "\n",
    "# 1. Plot Cold Turkey\n",
    "ax.scatter(viol_mean['ct'], subopt_mean['ct'], c=\"black\", label=\"cold turkey\")\n",
    "\n",
    "# 2. Plot Linear\n",
    "for i, lin_rate in enumerate(lin_rates[drug]):\n",
    "    if not i:\n",
    "        ax.scatter(viol_mean['lin-'+str(lin_rate)], subopt_mean['lin-'+str(lin_rate)], c=\"red\", label=\"linear\")\n",
    "        ax.annotate(str(lin_rate), (viol_mean['lin-'+str(lin_rate)], subopt_mean['lin-'+str(lin_rate)]))\n",
    "    else:\n",
    "        ax.scatter(viol_mean['lin-'+str(lin_rate)], subopt_mean['lin-'+str(lin_rate)], c=\"red\")\n",
    "        ax.annotate(str(lin_rate), (viol_mean['lin-'+str(lin_rate)], subopt_mean['lin-'+str(lin_rate)]))\n",
    "    \n",
    "# 3. Plot Exponential\n",
    "for i, exp_rate in enumerate(exp_rates[drug]):\n",
    "    if not i:\n",
    "        ax.scatter(viol_mean['exp-'+str(exp_rate)], subopt_mean['exp-'+str(exp_rate)], c=\"orange\", label=\"exponential\")\n",
    "        ax.annotate(str(exp_rate), (viol_mean['exp-'+str(exp_rate)], subopt_mean['exp-'+str(exp_rate)]))\n",
    "    else:\n",
    "        ax.scatter(viol_mean['exp-'+str(exp_rate)], subopt_mean['exp-'+str(exp_rate)], c=\"orange\")\n",
    "        ax.annotate(str(exp_rate), (viol_mean['exp-'+str(exp_rate)], subopt_mean['exp-'+str(exp_rate)]))\n",
    "\n",
    "# 4. Plot Lookahead\n",
    "g0_colors = ['lightish ', '', 'darkish ', 'dark ']\n",
    "for i, g0_frac in enumerate(g0_fracs[drug]):\n",
    "    for j, L in enumerate(Ls[drug]):\n",
    "        if not j:\n",
    "            ax.scatter(viol_mean['lk-'+str(g0_frac)+'-'+str(L)], subopt_mean['lk-'+str(g0_frac)+'-'+str(L)], \\\n",
    "                       c='xkcd:'+g0_colors[i]+'blue', label=\"lookahead-\"+str(g0_frac))\n",
    "            if i==1:\n",
    "                ax.annotate(str(L), (viol_mean['lk-'+str(g0_frac)+'-'+str(L)], subopt_mean['lk-'+str(g0_frac)+'-'+str(L)]))\n",
    "        else:\n",
    "            ax.scatter(viol_mean['lk-'+str(g0_frac)+'-'+str(L)], subopt_mean['lk-'+str(g0_frac)+'-'+str(L)], \\\n",
    "                       c='xkcd:'+g0_colors[i]+'blue')\n",
    "            if i==1:\n",
    "                ax.annotate(str(L), (viol_mean['lk-'+str(g0_frac)+'-'+str(L)], subopt_mean['lk-'+str(g0_frac)+'-'+str(L)]))\n",
    "                \n",
    "plt.legend()\n",
    "plt.title(\"Drug \"+drug)\n",
    "plt.savefig(\"Drug_\" + drug + \"_\" + scale + \".pdf\");"
   ]
  },
  {
   "cell_type": "code",
   "execution_count": 47,
   "metadata": {},
   "outputs": [
    {
     "data": {
      "image/png": "[encoded data removed]",
      "text/plain": [
       "<Figure size 432x288 with 1 Axes>"
      ]
     },
     "metadata": {
      "needs_background": "light"
     },
     "output_type": "display_data"
    }
   ],
   "source": [
    "# 0. Initialize plot\n",
    "fig, ax = plt.subplots()\n",
    "plt.xlabel(\"avg. cumulative constraint violation\")\n",
    "plt.ylabel(\"std. of cumulative constraint violation\")\n",
    "\n",
    "scale = 'log'\n",
    "plt.xscale(scale)\n",
    "plt.yscale(scale)\n",
    "\n",
    "# 1. Plot Cold Turkey\n",
    "ax.scatter(viol_mean['ct'], viol_std['ct'], c=\"black\", label=\"cold turkey\")\n",
    "\n",
    "# 2. Plot Linear\n",
    "for i, lin_rate in enumerate(lin_rates[drug]):\n",
    "    if not i:\n",
    "        ax.scatter(viol_mean['lin-'+str(lin_rate)], viol_std['lin-'+str(lin_rate)], c=\"red\", label=\"linear\")\n",
    "        ax.annotate(str(lin_rate), (viol_mean['lin-'+str(lin_rate)], viol_std['lin-'+str(lin_rate)]))\n",
    "    else:\n",
    "        ax.scatter(viol_mean['lin-'+str(lin_rate)], viol_std['lin-'+str(lin_rate)], c=\"red\")\n",
    "        ax.annotate(str(lin_rate), (viol_mean['lin-'+str(lin_rate)], viol_std['lin-'+str(lin_rate)]))\n",
    "    \n",
    "# 3. Plot Exponential\n",
    "for i, exp_rate in enumerate(exp_rates[drug]):\n",
    "    if not i:\n",
    "        ax.scatter(viol_mean['exp-'+str(exp_rate)], viol_std['exp-'+str(exp_rate)], c=\"orange\", label=\"exponential\")\n",
    "        ax.annotate(str(exp_rate), (viol_mean['exp-'+str(exp_rate)], viol_std['exp-'+str(exp_rate)]))\n",
    "    else:\n",
    "        ax.scatter(viol_mean['exp-'+str(exp_rate)], viol_std['exp-'+str(exp_rate)], c=\"orange\")\n",
    "        ax.annotate(str(exp_rate), (viol_mean['exp-'+str(exp_rate)], viol_std['exp-'+str(exp_rate)]))\n",
    "        \n",
    "# 4. Plot Monotone Lookahead\n",
    "g0_colors = ['lightish ', '', 'darkish ', 'dark ']\n",
    "for i, g0_frac in enumerate(g0_fracs[drug]):\n",
    "    for j, L in enumerate(Ls[drug]):\n",
    "        if not j:\n",
    "            ax.scatter(viol_mean['lk-'+str(g0_frac)+'-'+str(L)], viol_std['lk-'+str(g0_frac)+'-'+str(L)], \\\n",
    "                       c='xkcd:'+g0_colors[i]+'blue', label=\"lookahead-\"+str(g0_frac))\n",
    "            if i==1:\n",
    "                ax.annotate(str(L), (viol_mean['lk-'+str(g0_frac)+'-'+str(L)], viol_std['lk-'+str(g0_frac)+'-'+str(L)]))\n",
    "        else:\n",
    "            ax.scatter(viol_mean['lk-'+str(g0_frac)+'-'+str(L)], viol_std['lk-'+str(g0_frac)+'-'+str(L)], \\\n",
    "                       c='xkcd:'+g0_colors[i]+'blue')\n",
    "            if i==1:\n",
    "                ax.annotate(str(L), (viol_mean['lk-'+str(g0_frac)+'-'+str(L)], viol_std['lk-'+str(g0_frac)+'-'+str(L)]))\n",
    "    \n",
    "plt.legend()\n",
    "plt.title(\"Drug \"+drug)\n",
    "plt.savefig(\"Drug_\" + drug + \"_\" + scale +\"-2.pdf\");"
   ]
  }
 ],
 "metadata": {
  "kernelspec": {
   "display_name": "Python 3",
   "language": "python",
   "name": "python3"
  },
  "language_info": {
   "codemirror_mode": {
    "name": "ipython",
    "version": 3
   },
   "file_extension": ".py",
   "mimetype": "text/x-python",
   "name": "python",
   "nbconvert_exporter": "python",
   "pygments_lexer": "ipython3",
   "version": "3.8.3"
  }
 },
 "nbformat": 4,
 "nbformat_minor": 4
}
